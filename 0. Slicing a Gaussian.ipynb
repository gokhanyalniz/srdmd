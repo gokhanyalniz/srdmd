{
 "cells": [
  {
   "cell_type": "markdown",
   "metadata": {},
   "source": [
    "This notebook is meant to show how one can slice (reduce one continuous symmetry of) a generic timeseries using the *first Fourier mode slice* (Budanur et. al. 2015, Phys. Rev. Lett. 114 (8)), **without** the template optimizations introduced in the paper this notebook accompanies (Marensi et. al. 2022, in preparation).\n",
    "\n",
    "As an example we take a Gaussian that drifts -with a known drift velocity- and later splits to give two such Gaussians, a timeseries of the form\n",
    "$G(x,t) = G_1(x,t) + G_2(x,t)$ such that\n",
    "$$G_1(x-c_1 t) = A_1 e^{-(x-x_1 - c_1 t)^2} $$\n",
    "and\n",
    "$$G_2(x-c_2 t) = A_2 e^{-(x-x_2 - c_2 t)^2}\\, \\text{if}\\, t > t_s\\, \\text{else}\\, 0$$.\n"
   ]
  },
  {
   "cell_type": "code",
   "execution_count": 1,
   "metadata": {},
   "outputs": [],
   "source": [
    "import numpy as np\n",
    "from matplotlib import pyplot as plt "
   ]
  },
  {
   "cell_type": "code",
   "execution_count": 2,
   "metadata": {},
   "outputs": [],
   "source": [
    "Nt = 50     # runtime\n",
    "Nx = 80     # grid size\n",
    "x0 = 20     # initial position of the parent puff\n",
    "t_puff = 15 # when the child puff is born\n",
    "\n",
    "c_parent = 1   # speed of the parent puff\n",
    "c_child  = 2   # speed of the child puff\n",
    "a_parent = 1   # amplitude of the parent puff\n",
    "a_child  = 0.5 # amplitude of the child puff"
   ]
  },
  {
   "cell_type": "code",
   "execution_count": 3,
   "metadata": {},
   "outputs": [
    {
     "data": {
      "text/plain": [
       "Text(0, 0.5, 't')"
      ]
     },
     "execution_count": 3,
     "metadata": {},
     "output_type": "execute_result"
    },
    {
     "data": {
      "image/png": "[encoded data removed]",
      "text/plain": [
       "<Figure size 432x288 with 1 Axes>"
      ]
     },
     "metadata": {
      "needs_background": "light"
     },
     "output_type": "display_data"
    }
   ],
   "source": [
    "# create sample data\n",
    "# drifting gaussians\n",
    "puff = np.zeros((Nt, Nx))\n",
    "for t in range(Nt):\n",
    "    for x in range(Nx):\n",
    "        puff[t, x] = a_parent*np.exp(- ((x - x0 - c_parent * t) % Nx) ** 2.0)\n",
    "        if t > t_puff:\n",
    "            puff[t, x] += a_child*np.exp(-((x - (x0 + c_parent * t_puff) - c_child * (t-t_puff))%Nx) ** 2.0)\n",
    "    \n",
    "fig, ax = plt.subplots()\n",
    "ax.imshow(puff, origin='lower')\n",
    "ax.set_xlabel('x')\n",
    "ax.set_ylabel('t')"
   ]
  },
  {
   "cell_type": "code",
   "execution_count": 4,
   "metadata": {},
   "outputs": [
    {
     "data": {
      "text/plain": [
       "Text(0, 0.5, 't')"
      ]
     },
     "execution_count": 4,
     "metadata": {},
     "output_type": "execute_result"
    },
    {
     "data": {
      "image/png": "[encoded data removed]",
      "text/plain": [
       "<Figure size 432x288 with 1 Axes>"
      ]
     },
     "metadata": {
      "needs_background": "light"
     },
     "output_type": "display_data"
    }
   ],
   "source": [
    "# perfect solution: \n",
    "# when one already knows the speed of the parent puff\n",
    "puffStationary = np.zeros(puff.shape)\n",
    "for t in range(Nt):\n",
    "    for x in range(Nx):\n",
    "        puffStationary[t, x] = puff[t, (x + c_parent * t) % Nx]\n",
    "       \n",
    "fig, ax = plt.subplots()\n",
    "ax.imshow(puffStationary, origin='lower')\n",
    "ax.set_xlabel('x')\n",
    "ax.set_ylabel('t')"
   ]
  },
  {
   "cell_type": "code",
   "execution_count": 5,
   "metadata": {},
   "outputs": [
    {
     "data": {
      "text/plain": [
       "Text(0, 0.5, 't')"
      ]
     },
     "execution_count": 5,
     "metadata": {},
     "output_type": "execute_result"
    },
    {
     "data": {
      "image/png": "[encoded data removed]",
      "text/plain": [
       "<Figure size 432x288 with 1 Axes>"
      ]
     },
     "metadata": {
      "needs_background": "light"
     },
     "output_type": "display_data"
    }
   ],
   "source": [
    "# standard slicing\n",
    "template = np.cos(2 * np.pi * np.arange(0, Nx) / Nx)\n",
    "templateShift = np.roll(template, int(Nx / 4))\n",
    "proj_r = np.dot(puff, template)\n",
    "proj_i = np.dot(puff, templateShift)\n",
    "# phase at time zero\n",
    "phase0 = np.arctan2(proj_i[0], proj_r[0])\n",
    "# shift the origin back to the initial position of the parent puff\n",
    "slicePhase = np.arctan2(proj_i, proj_r) - phase0\n",
    "puffSlice = np.zeros(puff.shape)\n",
    "for i in range(puffSlice.shape[0]):\n",
    "    puffSlice[i, :] = np.roll(puff[i, :], -int(np.round(Nx * slicePhase[i] / (2 * np.pi))))\n",
    "\n",
    "fig, ax = plt.subplots()\n",
    "ax.imshow(puffSlice, origin='lower')\n",
    "ax.set_xlabel('x')\n",
    "ax.set_ylabel('t')"
   ]
  },
  {
   "cell_type": "code",
   "execution_count": null,
   "metadata": {},
   "outputs": [],
   "source": []
  }
 ],
 "metadata": {
  "kernelspec": {
   "display_name": "Python 3 (ipykernel)",
   "language": "python",
   "name": "python3"
  },
  "language_info": {
   "codemirror_mode": {
    "name": "ipython",
    "version": 3
   },
   "file_extension": ".py",
   "mimetype": "text/x-python",
   "name": "python",
   "nbconvert_exporter": "python",
   "pygments_lexer": "ipython3",
   "version": "3.9.7"
  }
 },
 "nbformat": 4,
 "nbformat_minor": 4
}
